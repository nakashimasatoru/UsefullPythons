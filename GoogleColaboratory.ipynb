{
  "nbformat": 4,
  "nbformat_minor": 0,
  "metadata": {
    "colab": {
      "name": "Untitled0.ipynb",
      "provenance": [],
      "authorship_tag": "ABX9TyNLkCcppsqTnB/RyVSGUNho",
      "include_colab_link": true
    },
    "kernelspec": {
      "name": "python3",
      "display_name": "Python 3"
    },
    "language_info": {
      "name": "python"
    }
  },
  "cells": [
    {
      "cell_type": "markdown",
      "metadata": {
        "id": "view-in-github",
        "colab_type": "text"
      },
      "source": [
        "<a href=\"https://colab.research.google.com/github/nakashimasatoru/UsefullPythons/blob/master/GoogleColaboratory.ipynb\" target=\"_parent\"><img src=\"https://colab.research.google.com/assets/colab-badge.svg\" alt=\"Open In Colab\"/></a>"
      ]
    },
    {
      "cell_type": "code",
      "execution_count": null,
      "metadata": {
        "id": "7P3psPkI_e0G"
      },
      "outputs": [],
      "source": [
        "import pandas as pd\n",
        "import numpy as np\n",
        "\n",
        "print('Hello python!')\n",
        "\n",
        "df = pd.DataFrame(np.arange(12).reshape(3, 4),\n",
        "                  columns=['col_0', 'col_1', 'col_2', 'col_3'],\n",
        "                  index=['row_0', 'row_1', 'row_2'])\n",
        "\n",
        "print(df)"
      ]
    }
  ]
}